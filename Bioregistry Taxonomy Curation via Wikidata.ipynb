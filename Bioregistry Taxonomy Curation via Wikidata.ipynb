{
 "cells": [
  {
   "cell_type": "code",
   "execution_count": 1,
   "id": "d44f29bb",
   "metadata": {},
   "outputs": [],
   "source": [
    "# Get wikidata taxonomy properties\n",
    "\n",
    "import bioregistry\n",
    "import requests\n",
    "import pandas as pd\n",
    "from bioregistry.utils import norm\n",
    "from bs4 import BeautifulSoup\n",
    "\n",
    "pd.set_option(\"display.max_rows\", None)"
   ]
  },
  {
   "cell_type": "markdown",
   "id": "6f238873",
   "metadata": {},
   "source": [
    "Extract a list of properties from the Wikidata [Taxonomy Properties](https://www.wikidata.org/wiki/Template:Taxonomy_properties) page."
   ]
  },
  {
   "cell_type": "code",
   "execution_count": 2,
   "id": "8efeb211",
   "metadata": {},
   "outputs": [],
   "source": [
    "URL = \"https://www.wikidata.org/wiki/Template:Taxonomy_properties\"\n",
    "\n",
    "soup = BeautifulSoup(requests.get(URL).text, \"html.parser\")"
   ]
  },
  {
   "cell_type": "code",
   "execution_count": null,
   "id": "a52d7eea",
   "metadata": {},
   "outputs": [],
   "source": [
    "wikidata_to_bioregistry = bioregistry.get_registry_invmap(\"wikidata\")"
   ]
  },
  {
   "cell_type": "code",
   "execution_count": null,
   "id": "1b14e332",
   "metadata": {},
   "outputs": [],
   "source": [
    "row_indexes = [\n",
    "    9,  # databases \n",
    "    11,  # references\n",
    "]\n",
    "\n",
    "properties = sorted(\n",
    "    {\n",
    "        (\n",
    "            li.find(\"a\").attrs[\"href\"].removeprefix(\"/wiki/Property_talk:\"),\n",
    "            li.find(\"a\").text\n",
    "        )\n",
    "        for row_index in row_indexes\n",
    "        for ul in soup.find(\"table\").find_all(\"tr\")[row_index].find_all(\"ul\")\n",
    "        for li in ul.find_all(\"li\")\n",
    "    },\n",
    "    key=lambda t: int(t[0][1:])\n",
    ")"
   ]
  },
  {
   "cell_type": "markdown",
   "id": "7cacdab4",
   "metadata": {},
   "source": [
    "Prepare a dataframe for further investigation."
   ]
  },
  {
   "cell_type": "code",
   "execution_count": null,
   "id": "542f5e3c",
   "metadata": {},
   "outputs": [],
   "source": [
    "def propose_prefix(label: str) -> str:\n",
    "    label = label.lower()\n",
    "    if \".\" in label:\n",
    "        return \"\"\n",
    "    label = label.removesuffix(\" id\")\n",
    "    label = label.removesuffix(\" code\")\n",
    "    for suffix in [\"author\", \"taxon\"]:\n",
    "        if label.endswith(f\" {suffix}\"):\n",
    "            label = label[:-len(suffix)-1] + f\".{suffix}\"\n",
    "    if \" \" in label or \"-\" in label:\n",
    "        return \"\"\n",
    "    return label\n",
    "    \n",
    "    \n",
    "def proposal_conflict(proposal: str) -> bool:\n",
    "    if not proposal:\n",
    "        return False\n",
    "    if bioregistry.normalize_prefix(proposal):\n",
    "        return True\n",
    "    return False\n",
    "\n",
    "df = pd.DataFrame(properties, columns=[\"property\", \"label\"])\n",
    "df[\"in_bioregistry\"] = df[\"property\"].map(wikidata_to_bioregistry.__contains__)\n",
    "df[\"proposed_prefix\"] = df[\"label\"].map(propose_prefix)\n",
    "df[\"proposed_prefix_conflict\"] = df[\"proposed_prefix\"].map(proposal_conflict)"
   ]
  },
  {
   "cell_type": "markdown",
   "id": "ebb2b4ed",
   "metadata": {},
   "source": [
    "The following Wikidata properties are already mapped in the Bioregistry to a prefix."
   ]
  },
  {
   "cell_type": "code",
   "execution_count": null,
   "id": "fb233333",
   "metadata": {},
   "outputs": [],
   "source": [
    "df.loc[df.in_bioregistry, [\"property\", \"label\"]]"
   ]
  },
  {
   "cell_type": "markdown",
   "id": "99cf8094",
   "metadata": {},
   "source": [
    "The following Wikidata properties are not mapped to the Bioregistry, but can lexically mapped based on the label."
   ]
  },
  {
   "cell_type": "code",
   "execution_count": null,
   "id": "16ed62d9",
   "metadata": {},
   "outputs": [],
   "source": [
    "df.loc[\n",
    "    ~df.in_bioregistry & df.proposed_prefix_conflict, \n",
    "    [\"property\", \"label\", \"proposed_prefix\"],\n",
    "]"
   ]
  },
  {
   "cell_type": "markdown",
   "id": "e0f91187",
   "metadata": {},
   "source": [
    "The following Wikidata properties are not mapped to the Bioregistry, and could be assigned a prefix by simple string operations on the label."
   ]
  },
  {
   "cell_type": "code",
   "execution_count": null,
   "id": "dbd53c52",
   "metadata": {},
   "outputs": [],
   "source": [
    "df.loc[\n",
    "    (~df.in_bioregistry) & (~df.proposed_prefix_conflict) & (df.proposed_prefix != \"\"), \n",
    "    [\"property\", \"label\", \"proposed_prefix\"]\n",
    "]"
   ]
  },
  {
   "cell_type": "markdown",
   "id": "c13b2970",
   "metadata": {},
   "source": [
    "The remaining Wikidata properties can not be mapped to the Bioregistry based on property and have complicated names that would require more careful assignment of prefixes."
   ]
  },
  {
   "cell_type": "code",
   "execution_count": null,
   "id": "56f4c168",
   "metadata": {},
   "outputs": [],
   "source": [
    "df.loc[\n",
    "    (~df.in_bioregistry) & (~df.proposed_prefix_conflict) & (df.proposed_prefix == \"\"), \n",
    "    [\"property\", \"label\"]\n",
    "]"
   ]
  }
 ],
 "metadata": {
  "kernelspec": {
   "display_name": "Python 3 (ipykernel)",
   "language": "python",
   "name": "python3"
  },
  "language_info": {
   "codemirror_mode": {
    "name": "ipython",
    "version": 3
   },
   "file_extension": ".py",
   "mimetype": "text/x-python",
   "name": "python",
   "nbconvert_exporter": "python",
   "pygments_lexer": "ipython3",
   "version": "3.9.12"
  }
 },
 "nbformat": 4,
 "nbformat_minor": 5
}
