{
 "cells": [
  {
   "cell_type": "code",
   "execution_count": 1,
   "id": "4d5bae86",
   "metadata": {},
   "outputs": [
    {
     "data": {
      "text/html": [
       "<div>\n",
       "<style scoped>\n",
       "    .dataframe tbody tr th:only-of-type {\n",
       "        vertical-align: middle;\n",
       "    }\n",
       "\n",
       "    .dataframe tbody tr th {\n",
       "        vertical-align: top;\n",
       "    }\n",
       "\n",
       "    .dataframe thead th {\n",
       "        text-align: right;\n",
       "    }\n",
       "</style>\n",
       "<table border=\"1\" class=\"dataframe\">\n",
       "  <thead>\n",
       "    <tr style=\"text-align: right;\">\n",
       "      <th></th>\n",
       "      <th>0</th>\n",
       "      <th>1</th>\n",
       "      <th>4</th>\n",
       "      <th>5</th>\n",
       "      <th>7</th>\n",
       "      <th>12</th>\n",
       "    </tr>\n",
       "  </thead>\n",
       "  <tbody>\n",
       "    <tr>\n",
       "      <th>0</th>\n",
       "      <td>UniProtKB</td>\n",
       "      <td>A0A024RBG1</td>\n",
       "      <td>GO:0003723</td>\n",
       "      <td>GO_REF:0000043</td>\n",
       "      <td>UniProtKB-KW:KW-0694</td>\n",
       "      <td>taxon:9606</td>\n",
       "    </tr>\n",
       "    <tr>\n",
       "      <th>1</th>\n",
       "      <td>UniProtKB</td>\n",
       "      <td>A0A024RBG1</td>\n",
       "      <td>GO:0046872</td>\n",
       "      <td>GO_REF:0000043</td>\n",
       "      <td>UniProtKB-KW:KW-0479</td>\n",
       "      <td>taxon:9606</td>\n",
       "    </tr>\n",
       "    <tr>\n",
       "      <th>2</th>\n",
       "      <td>UniProtKB</td>\n",
       "      <td>A0A024RBG1</td>\n",
       "      <td>GO:0005829</td>\n",
       "      <td>GO_REF:0000052</td>\n",
       "      <td>NaN</td>\n",
       "      <td>taxon:9606</td>\n",
       "    </tr>\n",
       "    <tr>\n",
       "      <th>3</th>\n",
       "      <td>UniProtKB</td>\n",
       "      <td>A0A075B6H7</td>\n",
       "      <td>GO:0002250</td>\n",
       "      <td>GO_REF:0000043</td>\n",
       "      <td>UniProtKB-KW:KW-1064</td>\n",
       "      <td>taxon:9606</td>\n",
       "    </tr>\n",
       "    <tr>\n",
       "      <th>4</th>\n",
       "      <td>UniProtKB</td>\n",
       "      <td>A0A075B6H7</td>\n",
       "      <td>GO:0005886</td>\n",
       "      <td>GO_REF:0000044</td>\n",
       "      <td>UniProtKB-SubCell:SL-0039</td>\n",
       "      <td>taxon:9606</td>\n",
       "    </tr>\n",
       "  </tbody>\n",
       "</table>\n",
       "</div>"
      ],
      "text/plain": [
       "          0           1           4               5   \\\n",
       "0  UniProtKB  A0A024RBG1  GO:0003723  GO_REF:0000043   \n",
       "1  UniProtKB  A0A024RBG1  GO:0046872  GO_REF:0000043   \n",
       "2  UniProtKB  A0A024RBG1  GO:0005829  GO_REF:0000052   \n",
       "3  UniProtKB  A0A075B6H7  GO:0002250  GO_REF:0000043   \n",
       "4  UniProtKB  A0A075B6H7  GO:0005886  GO_REF:0000044   \n",
       "\n",
       "                          7           12  \n",
       "0       UniProtKB-KW:KW-0694  taxon:9606  \n",
       "1       UniProtKB-KW:KW-0479  taxon:9606  \n",
       "2                        NaN  taxon:9606  \n",
       "3       UniProtKB-KW:KW-1064  taxon:9606  \n",
       "4  UniProtKB-SubCell:SL-0039  taxon:9606  "
      ]
     },
     "execution_count": 1,
     "metadata": {},
     "output_type": "execute_result"
    }
   ],
   "source": [
    "import bioregistry.pandas as brpd\n",
    "import pandas as pd\n",
    "\n",
    "# Focus on these columns when displaying the data\n",
    "columns = [0, 1, 4, 5, 7, 12]\n",
    "\n",
    "df = pd.read_csv(\n",
    "    \"http://geneontology.org/gene-associations/goa_human.gaf.gz\",\n",
    "    sep=\"\\t\",\n",
    "    comment=\"!\",\n",
    "    header=None,\n",
    "    dtype=str,\n",
    ").head(100)\n",
    "\n",
    "\n",
    "df[columns].head()"
   ]
  },
  {
   "cell_type": "markdown",
   "id": "c06bb2b2",
   "metadata": {},
   "source": [
    "## Prefixes"
   ]
  },
  {
   "cell_type": "code",
   "execution_count": 2,
   "id": "c6da0e76",
   "metadata": {},
   "outputs": [
    {
     "name": "stdout",
     "output_type": "stream",
     "text": [
      "100 of 100 (100%) rows with the following prefixes need to be fixed: ['UniProtKB']\n",
      "The following prefixes could be normalized using normalize_curies():\n",
      "\n",
      "| raw       | standardized   |\n",
      "|-----------|----------------|\n",
      "| UniProtKB | uniprot        |\n"
     ]
    }
   ],
   "source": [
    "idx = brpd.validate_prefixes(df, column=0)\n",
    "\n",
    "brpd.summarize_prefix_validation(df, idx)"
   ]
  },
  {
   "cell_type": "code",
   "execution_count": 3,
   "id": "06b5680a",
   "metadata": {},
   "outputs": [
    {
     "data": {
      "text/html": [
       "<div>\n",
       "<style scoped>\n",
       "    .dataframe tbody tr th:only-of-type {\n",
       "        vertical-align: middle;\n",
       "    }\n",
       "\n",
       "    .dataframe tbody tr th {\n",
       "        vertical-align: top;\n",
       "    }\n",
       "\n",
       "    .dataframe thead th {\n",
       "        text-align: right;\n",
       "    }\n",
       "</style>\n",
       "<table border=\"1\" class=\"dataframe\">\n",
       "  <thead>\n",
       "    <tr style=\"text-align: right;\">\n",
       "      <th></th>\n",
       "      <th>0</th>\n",
       "      <th>1</th>\n",
       "      <th>4</th>\n",
       "      <th>5</th>\n",
       "      <th>7</th>\n",
       "      <th>12</th>\n",
       "    </tr>\n",
       "  </thead>\n",
       "  <tbody>\n",
       "    <tr>\n",
       "      <th>0</th>\n",
       "      <td>uniprot</td>\n",
       "      <td>A0A024RBG1</td>\n",
       "      <td>GO:0003723</td>\n",
       "      <td>GO_REF:0000043</td>\n",
       "      <td>UniProtKB-KW:KW-0694</td>\n",
       "      <td>taxon:9606</td>\n",
       "    </tr>\n",
       "    <tr>\n",
       "      <th>1</th>\n",
       "      <td>uniprot</td>\n",
       "      <td>A0A024RBG1</td>\n",
       "      <td>GO:0046872</td>\n",
       "      <td>GO_REF:0000043</td>\n",
       "      <td>UniProtKB-KW:KW-0479</td>\n",
       "      <td>taxon:9606</td>\n",
       "    </tr>\n",
       "    <tr>\n",
       "      <th>2</th>\n",
       "      <td>uniprot</td>\n",
       "      <td>A0A024RBG1</td>\n",
       "      <td>GO:0005829</td>\n",
       "      <td>GO_REF:0000052</td>\n",
       "      <td>NaN</td>\n",
       "      <td>taxon:9606</td>\n",
       "    </tr>\n",
       "    <tr>\n",
       "      <th>3</th>\n",
       "      <td>uniprot</td>\n",
       "      <td>A0A075B6H7</td>\n",
       "      <td>GO:0002250</td>\n",
       "      <td>GO_REF:0000043</td>\n",
       "      <td>UniProtKB-KW:KW-1064</td>\n",
       "      <td>taxon:9606</td>\n",
       "    </tr>\n",
       "    <tr>\n",
       "      <th>4</th>\n",
       "      <td>uniprot</td>\n",
       "      <td>A0A075B6H7</td>\n",
       "      <td>GO:0005886</td>\n",
       "      <td>GO_REF:0000044</td>\n",
       "      <td>UniProtKB-SubCell:SL-0039</td>\n",
       "      <td>taxon:9606</td>\n",
       "    </tr>\n",
       "  </tbody>\n",
       "</table>\n",
       "</div>"
      ],
      "text/plain": [
       "        0           1           4               5                          7   \\\n",
       "0  uniprot  A0A024RBG1  GO:0003723  GO_REF:0000043       UniProtKB-KW:KW-0694   \n",
       "1  uniprot  A0A024RBG1  GO:0046872  GO_REF:0000043       UniProtKB-KW:KW-0479   \n",
       "2  uniprot  A0A024RBG1  GO:0005829  GO_REF:0000052                        NaN   \n",
       "3  uniprot  A0A075B6H7  GO:0002250  GO_REF:0000043       UniProtKB-KW:KW-1064   \n",
       "4  uniprot  A0A075B6H7  GO:0005886  GO_REF:0000044  UniProtKB-SubCell:SL-0039   \n",
       "\n",
       "           12  \n",
       "0  taxon:9606  \n",
       "1  taxon:9606  \n",
       "2  taxon:9606  \n",
       "3  taxon:9606  \n",
       "4  taxon:9606  "
      ]
     },
     "execution_count": 3,
     "metadata": {},
     "output_type": "execute_result"
    }
   ],
   "source": [
    "brpd.normalize_prefixes(df, column=0)\n",
    "\n",
    "df[columns].head()"
   ]
  },
  {
   "cell_type": "code",
   "execution_count": 4,
   "id": "933d04cb",
   "metadata": {},
   "outputs": [
    {
     "name": "stdout",
     "output_type": "stream",
     "text": [
      "0 of 100 (0%) rows with the following prefixes need to be fixed: []\n"
     ]
    }
   ],
   "source": [
    "idx = brpd.validate_prefixes(df, column=0)\n",
    "\n",
    "brpd.summarize_prefix_validation(df, idx)"
   ]
  },
  {
   "cell_type": "markdown",
   "id": "57db3a76",
   "metadata": {},
   "source": [
    "## CURIEs"
   ]
  },
  {
   "cell_type": "code",
   "execution_count": 5,
   "id": "a7a33717",
   "metadata": {},
   "outputs": [
    {
     "name": "stdout",
     "output_type": "stream",
     "text": [
      "100 of 100 (100%) rows with the following CURIEs need to be fixed: ['uniprot']\n"
     ]
    }
   ],
   "source": [
    "idx = brpd.validate_curies(df, column=4)\n",
    "\n",
    "brpd.summarize_curie_validation(df, idx)"
   ]
  },
  {
   "cell_type": "code",
   "execution_count": 6,
   "id": "64a1c5bc",
   "metadata": {},
   "outputs": [
    {
     "data": {
      "text/html": [
       "<div>\n",
       "<style scoped>\n",
       "    .dataframe tbody tr th:only-of-type {\n",
       "        vertical-align: middle;\n",
       "    }\n",
       "\n",
       "    .dataframe tbody tr th {\n",
       "        vertical-align: top;\n",
       "    }\n",
       "\n",
       "    .dataframe thead th {\n",
       "        text-align: right;\n",
       "    }\n",
       "</style>\n",
       "<table border=\"1\" class=\"dataframe\">\n",
       "  <thead>\n",
       "    <tr style=\"text-align: right;\">\n",
       "      <th></th>\n",
       "      <th>0</th>\n",
       "      <th>1</th>\n",
       "      <th>4</th>\n",
       "      <th>5</th>\n",
       "      <th>7</th>\n",
       "      <th>12</th>\n",
       "    </tr>\n",
       "  </thead>\n",
       "  <tbody>\n",
       "    <tr>\n",
       "      <th>0</th>\n",
       "      <td>uniprot</td>\n",
       "      <td>A0A024RBG1</td>\n",
       "      <td>go:0003723</td>\n",
       "      <td>GO_REF:0000043</td>\n",
       "      <td>UniProtKB-KW:KW-0694</td>\n",
       "      <td>taxon:9606</td>\n",
       "    </tr>\n",
       "    <tr>\n",
       "      <th>1</th>\n",
       "      <td>uniprot</td>\n",
       "      <td>A0A024RBG1</td>\n",
       "      <td>go:0046872</td>\n",
       "      <td>GO_REF:0000043</td>\n",
       "      <td>UniProtKB-KW:KW-0479</td>\n",
       "      <td>taxon:9606</td>\n",
       "    </tr>\n",
       "    <tr>\n",
       "      <th>2</th>\n",
       "      <td>uniprot</td>\n",
       "      <td>A0A024RBG1</td>\n",
       "      <td>go:0005829</td>\n",
       "      <td>GO_REF:0000052</td>\n",
       "      <td>NaN</td>\n",
       "      <td>taxon:9606</td>\n",
       "    </tr>\n",
       "    <tr>\n",
       "      <th>3</th>\n",
       "      <td>uniprot</td>\n",
       "      <td>A0A075B6H7</td>\n",
       "      <td>go:0002250</td>\n",
       "      <td>GO_REF:0000043</td>\n",
       "      <td>UniProtKB-KW:KW-1064</td>\n",
       "      <td>taxon:9606</td>\n",
       "    </tr>\n",
       "    <tr>\n",
       "      <th>4</th>\n",
       "      <td>uniprot</td>\n",
       "      <td>A0A075B6H7</td>\n",
       "      <td>go:0005886</td>\n",
       "      <td>GO_REF:0000044</td>\n",
       "      <td>UniProtKB-SubCell:SL-0039</td>\n",
       "      <td>taxon:9606</td>\n",
       "    </tr>\n",
       "  </tbody>\n",
       "</table>\n",
       "</div>"
      ],
      "text/plain": [
       "        0           1           4               5                          7   \\\n",
       "0  uniprot  A0A024RBG1  go:0003723  GO_REF:0000043       UniProtKB-KW:KW-0694   \n",
       "1  uniprot  A0A024RBG1  go:0046872  GO_REF:0000043       UniProtKB-KW:KW-0479   \n",
       "2  uniprot  A0A024RBG1  go:0005829  GO_REF:0000052                        NaN   \n",
       "3  uniprot  A0A075B6H7  go:0002250  GO_REF:0000043       UniProtKB-KW:KW-1064   \n",
       "4  uniprot  A0A075B6H7  go:0005886  GO_REF:0000044  UniProtKB-SubCell:SL-0039   \n",
       "\n",
       "           12  \n",
       "0  taxon:9606  \n",
       "1  taxon:9606  \n",
       "2  taxon:9606  \n",
       "3  taxon:9606  \n",
       "4  taxon:9606  "
      ]
     },
     "execution_count": 6,
     "metadata": {},
     "output_type": "execute_result"
    }
   ],
   "source": [
    "brpd.normalize_curies(df, column=4)\n",
    "\n",
    "df[columns].head()"
   ]
  },
  {
   "cell_type": "code",
   "execution_count": 7,
   "id": "5772c6c4",
   "metadata": {},
   "outputs": [
    {
     "name": "stdout",
     "output_type": "stream",
     "text": [
      "0 of 100 (0%) rows with the following CURIEs need to be fixed: []\n"
     ]
    }
   ],
   "source": [
    "idx = brpd.validate_curies(df, column=4)\n",
    "\n",
    "brpd.summarize_curie_validation(df, idx)"
   ]
  },
  {
   "cell_type": "markdown",
   "id": "7608be99",
   "metadata": {},
   "source": [
    "## Identifiers"
   ]
  },
  {
   "cell_type": "code",
   "execution_count": 8,
   "id": "0faf0720",
   "metadata": {},
   "outputs": [
    {
     "name": "stdout",
     "output_type": "stream",
     "text": [
      "0 rows have invalid identifiers\n"
     ]
    }
   ],
   "source": [
    "idx = brpd.validate_identifiers(df, column=1, prefix_column=0, use_tqdm=True)\n",
    "print(f\"{(~idx).sum():,} rows have invalid identifiers\")"
   ]
  },
  {
   "cell_type": "code",
   "execution_count": 9,
   "id": "bc2d73f2",
   "metadata": {},
   "outputs": [
    {
     "data": {
      "text/plain": [
       "0"
      ]
     },
     "execution_count": 9,
     "metadata": {},
     "output_type": "execute_result"
    }
   ],
   "source": [
    "(~idx).sum()"
   ]
  },
  {
   "cell_type": "code",
   "execution_count": 10,
   "id": "5691ff03",
   "metadata": {},
   "outputs": [
    {
     "data": {
      "text/html": [
       "<div>\n",
       "<style scoped>\n",
       "    .dataframe tbody tr th:only-of-type {\n",
       "        vertical-align: middle;\n",
       "    }\n",
       "\n",
       "    .dataframe tbody tr th {\n",
       "        vertical-align: top;\n",
       "    }\n",
       "\n",
       "    .dataframe thead th {\n",
       "        text-align: right;\n",
       "    }\n",
       "</style>\n",
       "<table border=\"1\" class=\"dataframe\">\n",
       "  <thead>\n",
       "    <tr style=\"text-align: right;\">\n",
       "      <th></th>\n",
       "      <th>1</th>\n",
       "      <th>4</th>\n",
       "      <th>5</th>\n",
       "      <th>7</th>\n",
       "      <th>12</th>\n",
       "    </tr>\n",
       "  </thead>\n",
       "  <tbody>\n",
       "    <tr>\n",
       "      <th>0</th>\n",
       "      <td>uniprot:A0A024RBG1</td>\n",
       "      <td>go:0003723</td>\n",
       "      <td>GO_REF:0000043</td>\n",
       "      <td>UniProtKB-KW:KW-0694</td>\n",
       "      <td>taxon:9606</td>\n",
       "    </tr>\n",
       "    <tr>\n",
       "      <th>1</th>\n",
       "      <td>uniprot:A0A024RBG1</td>\n",
       "      <td>go:0046872</td>\n",
       "      <td>GO_REF:0000043</td>\n",
       "      <td>UniProtKB-KW:KW-0479</td>\n",
       "      <td>taxon:9606</td>\n",
       "    </tr>\n",
       "    <tr>\n",
       "      <th>2</th>\n",
       "      <td>uniprot:A0A024RBG1</td>\n",
       "      <td>go:0005829</td>\n",
       "      <td>GO_REF:0000052</td>\n",
       "      <td>NaN</td>\n",
       "      <td>taxon:9606</td>\n",
       "    </tr>\n",
       "    <tr>\n",
       "      <th>3</th>\n",
       "      <td>uniprot:A0A075B6H7</td>\n",
       "      <td>go:0002250</td>\n",
       "      <td>GO_REF:0000043</td>\n",
       "      <td>UniProtKB-KW:KW-1064</td>\n",
       "      <td>taxon:9606</td>\n",
       "    </tr>\n",
       "    <tr>\n",
       "      <th>4</th>\n",
       "      <td>uniprot:A0A075B6H7</td>\n",
       "      <td>go:0005886</td>\n",
       "      <td>GO_REF:0000044</td>\n",
       "      <td>UniProtKB-SubCell:SL-0039</td>\n",
       "      <td>taxon:9606</td>\n",
       "    </tr>\n",
       "  </tbody>\n",
       "</table>\n",
       "</div>"
      ],
      "text/plain": [
       "                   1           4               5                          7   \\\n",
       "0  uniprot:A0A024RBG1  go:0003723  GO_REF:0000043       UniProtKB-KW:KW-0694   \n",
       "1  uniprot:A0A024RBG1  go:0046872  GO_REF:0000043       UniProtKB-KW:KW-0479   \n",
       "2  uniprot:A0A024RBG1  go:0005829  GO_REF:0000052                        NaN   \n",
       "3  uniprot:A0A075B6H7  go:0002250  GO_REF:0000043       UniProtKB-KW:KW-1064   \n",
       "4  uniprot:A0A075B6H7  go:0005886  GO_REF:0000044  UniProtKB-SubCell:SL-0039   \n",
       "\n",
       "           12  \n",
       "0  taxon:9606  \n",
       "1  taxon:9606  \n",
       "2  taxon:9606  \n",
       "3  taxon:9606  \n",
       "4  taxon:9606  "
      ]
     },
     "execution_count": 10,
     "metadata": {},
     "output_type": "execute_result"
    }
   ],
   "source": [
    "brpd.identifiers_to_curies(df, column=1, prefix_column=0)\n",
    "\n",
    "columns = [c for c in columns if c != 0]  # remove redundant column\n",
    "\n",
    "df[columns].head()"
   ]
  }
 ],
 "metadata": {
  "kernelspec": {
   "display_name": "Python 3 (ipykernel)",
   "language": "python",
   "name": "python3"
  },
  "language_info": {
   "codemirror_mode": {
    "name": "ipython",
    "version": 3
   },
   "file_extension": ".py",
   "mimetype": "text/x-python",
   "name": "python",
   "nbconvert_exporter": "python",
   "pygments_lexer": "ipython3",
   "version": "3.9.13"
  }
 },
 "nbformat": 4,
 "nbformat_minor": 5
}
