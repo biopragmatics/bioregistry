{
 "cells": [
  {
   "cell_type": "markdown",
   "id": "d1c3fc4b-eaed-4fc0-b92d-2e2f4862d865",
   "metadata": {},
   "source": [
    "# Preparing the Gene Ontology Annotations Database for Integration\n",
    "\n",
    "> A Gene Ontology (GO) annotation is a statement about the function of a particular gene. GO annotations are created by associating a gene or gene product with a GO term. Together, these statements comprise a “snapshot” of current biological knowledge. Hence, GO annotations capture statements about how a gene functions at the molecular level, where in the cell it functions, and what biological processes (pathways, programs) it helps to carry out. (quoted from https://geneontology.org/docs/go-annotations)\n",
    "\n",
    "This notebook downloads the Gene Ontology annotation database and walks through the steps of 1) validating the usages of prefixes, local unique identifiers, and CURIEs then 2) standardizing them. Many datasets require such standardization to make them readily interoperable with other datasets.\n",
    "\n",
    "In the first step, we load the most recent GO annotations database from http://geneontology.org/gene-associations/goa_human.gaf.gz. The format of this file is explained at https://geneontology.org/docs/go-annotation-file-gaf-format-2.2/, but we only look at a subset of columns."
   ]
  },
  {
   "cell_type": "code",
   "execution_count": 1,
   "id": "4d5bae86",
   "metadata": {},
   "outputs": [
    {
     "data": {
      "text/html": [
       "<div>\n",
       "<style scoped>\n",
       "    .dataframe tbody tr th:only-of-type {\n",
       "        vertical-align: middle;\n",
       "    }\n",
       "\n",
       "    .dataframe tbody tr th {\n",
       "        vertical-align: top;\n",
       "    }\n",
       "\n",
       "    .dataframe thead th {\n",
       "        text-align: right;\n",
       "    }\n",
       "</style>\n",
       "<table border=\"1\" class=\"dataframe\">\n",
       "  <thead>\n",
       "    <tr style=\"text-align: right;\">\n",
       "      <th></th>\n",
       "      <th>subject_prefix</th>\n",
       "      <th>subject_identifier</th>\n",
       "      <th>object_curie</th>\n",
       "      <th>reference_curie</th>\n",
       "      <th>taxon_curie</th>\n",
       "    </tr>\n",
       "  </thead>\n",
       "  <tbody>\n",
       "    <tr>\n",
       "      <th>0</th>\n",
       "      <td>UniProtKB</td>\n",
       "      <td>A0A024RBG1</td>\n",
       "      <td>GO:0003723</td>\n",
       "      <td>GO_REF:0000043</td>\n",
       "      <td>taxon:9606</td>\n",
       "    </tr>\n",
       "    <tr>\n",
       "      <th>1</th>\n",
       "      <td>UniProtKB</td>\n",
       "      <td>A0A024RBG1</td>\n",
       "      <td>GO:0005515</td>\n",
       "      <td>PMID:33961781</td>\n",
       "      <td>taxon:9606</td>\n",
       "    </tr>\n",
       "    <tr>\n",
       "      <th>2</th>\n",
       "      <td>UniProtKB</td>\n",
       "      <td>A0A024RBG1</td>\n",
       "      <td>GO:0008486</td>\n",
       "      <td>GO_REF:0000003</td>\n",
       "      <td>taxon:9606</td>\n",
       "    </tr>\n",
       "    <tr>\n",
       "      <th>3</th>\n",
       "      <td>UniProtKB</td>\n",
       "      <td>A0A024RBG1</td>\n",
       "      <td>GO:0016462</td>\n",
       "      <td>GO_REF:0000002</td>\n",
       "      <td>taxon:9606</td>\n",
       "    </tr>\n",
       "    <tr>\n",
       "      <th>4</th>\n",
       "      <td>UniProtKB</td>\n",
       "      <td>A0A024RBG1</td>\n",
       "      <td>GO:0016787</td>\n",
       "      <td>GO_REF:0000002</td>\n",
       "      <td>taxon:9606</td>\n",
       "    </tr>\n",
       "  </tbody>\n",
       "</table>\n",
       "</div>"
      ],
      "text/plain": [
       "  subject_prefix subject_identifier object_curie reference_curie taxon_curie\n",
       "0      UniProtKB         A0A024RBG1   GO:0003723  GO_REF:0000043  taxon:9606\n",
       "1      UniProtKB         A0A024RBG1   GO:0005515   PMID:33961781  taxon:9606\n",
       "2      UniProtKB         A0A024RBG1   GO:0008486  GO_REF:0000003  taxon:9606\n",
       "3      UniProtKB         A0A024RBG1   GO:0016462  GO_REF:0000002  taxon:9606\n",
       "4      UniProtKB         A0A024RBG1   GO:0016787  GO_REF:0000002  taxon:9606"
      ]
     },
     "execution_count": 1,
     "metadata": {},
     "output_type": "execute_result"
    }
   ],
   "source": [
    "import pandas as pd\n",
    "\n",
    "import bioregistry.pandas as brpd\n",
    "\n",
    "# Focus on these columns when displaying the data\n",
    "columns = [0, 1, 4, 5, 12]\n",
    "names = [\n",
    "    \"subject_prefix\",\n",
    "    \"subject_identifier\",\n",
    "    \"object_curie\",\n",
    "    \"reference_curie\",\n",
    "    \"taxon_curie\",\n",
    "]\n",
    "\n",
    "df = pd.read_csv(\n",
    "    \"http://geneontology.org/gene-associations/goa_human.gaf.gz\",\n",
    "    sep=\"\\t\",\n",
    "    comment=\"!\",\n",
    "    header=None,\n",
    "    usecols=columns,\n",
    "    names=names,\n",
    "    dtype=str,\n",
    ").head(100)\n",
    "\n",
    "\n",
    "df.head()"
   ]
  },
  {
   "cell_type": "markdown",
   "id": "ead3473a-7cc8-4fe9-93ab-68f078e4bf44",
   "metadata": {},
   "source": [
    "## Validation"
   ]
  },
  {
   "cell_type": "code",
   "execution_count": 2,
   "id": "acec9e21-e4ed-4821-9d7c-fba5af854173",
   "metadata": {},
   "outputs": [
    {
     "name": "stdout",
     "output_type": "stream",
     "text": [
      "100 of 100 (100%) rows with the following prefixes need to be fixed: ['UniProtKB']\n",
      "The following prefixes could be normalized using normalize_curies():\n",
      "\n",
      "| raw       | standardized   |\n",
      "|-----------|----------------|\n",
      "| UniProtKB | uniprot        |\n"
     ]
    }
   ],
   "source": [
    "idx = brpd.validate_prefixes(df, column=\"subject_prefix\")\n",
    "\n",
    "brpd.summarize_prefix_validation(df, idx, column=\"subject_prefix\")"
   ]
  },
  {
   "cell_type": "code",
   "execution_count": 3,
   "id": "a7a33717",
   "metadata": {},
   "outputs": [
    {
     "name": "stdout",
     "output_type": "stream",
     "text": [
      "100 of 100 (100%) rows with the following CURIEs need to be fixed: ['GO:0002250', 'GO:0002376', 'GO:0003723', 'GO:0005515', 'GO:0005576', 'GO:0005737', 'GO:0005829', 'GO:0005886', 'GO:0008486', 'GO:0016020', 'GO:0016462', 'GO:0016787', 'GO:0019814', 'GO:0046872']\n"
     ]
    }
   ],
   "source": [
    "idx = brpd.validate_curies(df, column=\"object_curie\")\n",
    "brpd.summarize_curie_validation(df, idx, column=\"object_curie\")"
   ]
  },
  {
   "cell_type": "code",
   "execution_count": 4,
   "id": "8b12dc79-1ae1-40f7-b99c-c5643da2931b",
   "metadata": {},
   "outputs": [
    {
     "name": "stdout",
     "output_type": "stream",
     "text": [
      "100 of 100 (100%) rows with the following CURIEs need to be fixed: ['GO_REF:0000002', 'GO_REF:0000003', 'GO_REF:0000043', 'GO_REF:0000044', 'GO_REF:0000052', 'GO_REF:0000117', 'PMID:33961781']\n"
     ]
    }
   ],
   "source": [
    "idx = brpd.validate_curies(df, column=\"reference_curie\")\n",
    "brpd.summarize_curie_validation(df, idx, column=\"reference_curie\")"
   ]
  },
  {
   "cell_type": "code",
   "execution_count": 5,
   "id": "9dd93e51-16a0-442b-9ec0-95b08b482880",
   "metadata": {},
   "outputs": [
    {
     "name": "stdout",
     "output_type": "stream",
     "text": [
      "100 of 100 (100%) rows with the following CURIEs need to be fixed: ['taxon:9606']\n"
     ]
    }
   ],
   "source": [
    "idx = brpd.validate_curies(df, column=\"taxon_curie\")\n",
    "brpd.summarize_curie_validation(df, idx, column=\"taxon_curie\")"
   ]
  },
  {
   "cell_type": "markdown",
   "id": "74cdd8e3-9dce-4824-b769-ab6117b73339",
   "metadata": {},
   "source": [
    "## Standardize"
   ]
  },
  {
   "cell_type": "code",
   "execution_count": 6,
   "id": "06b5680a",
   "metadata": {},
   "outputs": [
    {
     "data": {
      "text/html": [
       "<div>\n",
       "<style scoped>\n",
       "    .dataframe tbody tr th:only-of-type {\n",
       "        vertical-align: middle;\n",
       "    }\n",
       "\n",
       "    .dataframe tbody tr th {\n",
       "        vertical-align: top;\n",
       "    }\n",
       "\n",
       "    .dataframe thead th {\n",
       "        text-align: right;\n",
       "    }\n",
       "</style>\n",
       "<table border=\"1\" class=\"dataframe\">\n",
       "  <thead>\n",
       "    <tr style=\"text-align: right;\">\n",
       "      <th></th>\n",
       "      <th>subject_curie</th>\n",
       "      <th>object_curie</th>\n",
       "      <th>reference_curie</th>\n",
       "      <th>taxon_curie</th>\n",
       "    </tr>\n",
       "  </thead>\n",
       "  <tbody>\n",
       "    <tr>\n",
       "      <th>0</th>\n",
       "      <td>uniprot:A0A024RBG1</td>\n",
       "      <td>go:0003723</td>\n",
       "      <td>go.ref:0000043</td>\n",
       "      <td>ncbitaxon:9606</td>\n",
       "    </tr>\n",
       "    <tr>\n",
       "      <th>1</th>\n",
       "      <td>uniprot:A0A024RBG1</td>\n",
       "      <td>go:0005515</td>\n",
       "      <td>pubmed:33961781</td>\n",
       "      <td>ncbitaxon:9606</td>\n",
       "    </tr>\n",
       "    <tr>\n",
       "      <th>2</th>\n",
       "      <td>uniprot:A0A024RBG1</td>\n",
       "      <td>go:0008486</td>\n",
       "      <td>go.ref:0000003</td>\n",
       "      <td>ncbitaxon:9606</td>\n",
       "    </tr>\n",
       "    <tr>\n",
       "      <th>3</th>\n",
       "      <td>uniprot:A0A024RBG1</td>\n",
       "      <td>go:0016462</td>\n",
       "      <td>go.ref:0000002</td>\n",
       "      <td>ncbitaxon:9606</td>\n",
       "    </tr>\n",
       "    <tr>\n",
       "      <th>4</th>\n",
       "      <td>uniprot:A0A024RBG1</td>\n",
       "      <td>go:0016787</td>\n",
       "      <td>go.ref:0000002</td>\n",
       "      <td>ncbitaxon:9606</td>\n",
       "    </tr>\n",
       "  </tbody>\n",
       "</table>\n",
       "</div>"
      ],
      "text/plain": [
       "        subject_curie object_curie  reference_curie     taxon_curie\n",
       "0  uniprot:A0A024RBG1   go:0003723   go.ref:0000043  ncbitaxon:9606\n",
       "1  uniprot:A0A024RBG1   go:0005515  pubmed:33961781  ncbitaxon:9606\n",
       "2  uniprot:A0A024RBG1   go:0008486   go.ref:0000003  ncbitaxon:9606\n",
       "3  uniprot:A0A024RBG1   go:0016462   go.ref:0000002  ncbitaxon:9606\n",
       "4  uniprot:A0A024RBG1   go:0016787   go.ref:0000002  ncbitaxon:9606"
      ]
     },
     "execution_count": 6,
     "metadata": {},
     "output_type": "execute_result"
    }
   ],
   "source": [
    "brpd.normalize_prefixes(df, column=\"subject_prefix\")\n",
    "\n",
    "# Collapse split prefix/identifier columns together into curies\n",
    "brpd.pd_collapse_to_curies(\n",
    "    df,\n",
    "    prefix_column=\"subject_prefix\",\n",
    "    identifier_column=\"subject_identifier\",\n",
    "    target_column=\"subject_curie\",\n",
    ")\n",
    "\n",
    "brpd.normalize_curies(df, column=\"object_curie\")\n",
    "brpd.normalize_curies(df, column=\"reference_curie\")\n",
    "brpd.normalize_curies(df, column=\"taxon_curie\")\n",
    "\n",
    "df = df[[\"subject_curie\", \"object_curie\", \"reference_curie\", \"taxon_curie\"]]\n",
    "df.head()"
   ]
  },
  {
   "cell_type": "code",
   "execution_count": null,
   "id": "933d04cb",
   "metadata": {},
   "outputs": [],
   "source": []
  },
  {
   "cell_type": "markdown",
   "id": "57db3a76",
   "metadata": {},
   "source": [
    "## CURIEs"
   ]
  },
  {
   "cell_type": "code",
   "execution_count": 7,
   "id": "64a1c5bc",
   "metadata": {},
   "outputs": [
    {
     "ename": "IndexError",
     "evalue": "index 4 is out of bounds for axis 0 with size 4",
     "output_type": "error",
     "traceback": [
      "\u001b[0;31m---------------------------------------------------------------------------\u001b[0m",
      "\u001b[0;31mIndexError\u001b[0m                                Traceback (most recent call last)",
      "Cell \u001b[0;32mIn[7], line 1\u001b[0m\n\u001b[0;32m----> 1\u001b[0m \u001b[43mbrpd\u001b[49m\u001b[38;5;241;43m.\u001b[39;49m\u001b[43mnormalize_curies\u001b[49m\u001b[43m(\u001b[49m\u001b[43mdf\u001b[49m\u001b[43m,\u001b[49m\u001b[43m \u001b[49m\u001b[43mcolumn\u001b[49m\u001b[38;5;241;43m=\u001b[39;49m\u001b[38;5;241;43m4\u001b[39;49m\u001b[43m)\u001b[49m\n\u001b[1;32m      3\u001b[0m df[columns]\u001b[38;5;241m.\u001b[39mhead()\n",
      "File \u001b[0;32m~/dev/bioregistry/src/bioregistry/pandas.py:124\u001b[0m, in \u001b[0;36mnormalize_curies\u001b[0;34m(df, column, target_column)\u001b[0m\n\u001b[1;32m     91\u001b[0m \u001b[38;5;28;01mdef\u001b[39;00m \u001b[38;5;21mnormalize_curies\u001b[39m(\n\u001b[1;32m     92\u001b[0m     df: pd\u001b[38;5;241m.\u001b[39mDataFrame, column: \u001b[38;5;28mint\u001b[39m \u001b[38;5;241m|\u001b[39m \u001b[38;5;28mstr\u001b[39m, \u001b[38;5;241m*\u001b[39m, target_column: \u001b[38;5;28mstr\u001b[39m \u001b[38;5;241m|\u001b[39m \u001b[38;5;28;01mNone\u001b[39;00m \u001b[38;5;241m=\u001b[39m \u001b[38;5;28;01mNone\u001b[39;00m\n\u001b[1;32m     93\u001b[0m ) \u001b[38;5;241m-\u001b[39m\u001b[38;5;241m>\u001b[39m \u001b[38;5;28;01mNone\u001b[39;00m:\n\u001b[1;32m     94\u001b[0m \u001b[38;5;250m    \u001b[39m\u001b[38;5;124;03m\"\"\"Normalize CURIEs in a given column.\u001b[39;00m\n\u001b[1;32m     95\u001b[0m \n\u001b[1;32m     96\u001b[0m \u001b[38;5;124;03m    :param df: A dataframe\u001b[39;00m\n\u001b[0;32m   (...)\u001b[0m\n\u001b[1;32m    122\u001b[0m \u001b[38;5;124;03m        brpd.normalize_curies(df, column=12)\u001b[39;00m\n\u001b[1;32m    123\u001b[0m \u001b[38;5;124;03m    \"\"\"\u001b[39;00m\n\u001b[0;32m--> 124\u001b[0m     column \u001b[38;5;241m=\u001b[39m \u001b[43m_norm_column\u001b[49m\u001b[43m(\u001b[49m\u001b[43mdf\u001b[49m\u001b[43m,\u001b[49m\u001b[43m \u001b[49m\u001b[43mcolumn\u001b[49m\u001b[43m)\u001b[49m\n\u001b[1;32m    125\u001b[0m     \u001b[38;5;28;01mif\u001b[39;00m target_column \u001b[38;5;129;01mis\u001b[39;00m \u001b[38;5;28;01mNone\u001b[39;00m:\n\u001b[1;32m    126\u001b[0m         target_column \u001b[38;5;241m=\u001b[39m column\n",
      "File \u001b[0;32m~/dev/bioregistry/src/bioregistry/pandas.py:61\u001b[0m, in \u001b[0;36m_norm_column\u001b[0;34m(df, column)\u001b[0m\n\u001b[1;32m     60\u001b[0m \u001b[38;5;28;01mdef\u001b[39;00m \u001b[38;5;21m_norm_column\u001b[39m(df: pd\u001b[38;5;241m.\u001b[39mDataFrame, column: \u001b[38;5;28mint\u001b[39m \u001b[38;5;241m|\u001b[39m \u001b[38;5;28mstr\u001b[39m) \u001b[38;5;241m-\u001b[39m\u001b[38;5;241m>\u001b[39m \u001b[38;5;28mstr\u001b[39m:\n\u001b[0;32m---> 61\u001b[0m     \u001b[38;5;28;01mreturn\u001b[39;00m column \u001b[38;5;28;01mif\u001b[39;00m \u001b[38;5;28misinstance\u001b[39m(column, \u001b[38;5;28mstr\u001b[39m) \u001b[38;5;28;01melse\u001b[39;00m \u001b[43mdf\u001b[49m\u001b[38;5;241;43m.\u001b[39;49m\u001b[43mcolumns\u001b[49m\u001b[43m[\u001b[49m\u001b[43mcolumn\u001b[49m\u001b[43m]\u001b[49m\n",
      "File \u001b[0;32m~/.virtualenvs/biopragmatics/lib/python3.12/site-packages/pandas/core/indexes/base.py:5389\u001b[0m, in \u001b[0;36mIndex.__getitem__\u001b[0;34m(self, key)\u001b[0m\n\u001b[1;32m   5386\u001b[0m \u001b[38;5;28;01mif\u001b[39;00m is_integer(key) \u001b[38;5;129;01mor\u001b[39;00m is_float(key):\n\u001b[1;32m   5387\u001b[0m     \u001b[38;5;66;03m# GH#44051 exclude bool, which would return a 2d ndarray\u001b[39;00m\n\u001b[1;32m   5388\u001b[0m     key \u001b[38;5;241m=\u001b[39m com\u001b[38;5;241m.\u001b[39mcast_scalar_indexer(key)\n\u001b[0;32m-> 5389\u001b[0m     \u001b[38;5;28;01mreturn\u001b[39;00m \u001b[43mgetitem\u001b[49m\u001b[43m(\u001b[49m\u001b[43mkey\u001b[49m\u001b[43m)\u001b[49m\n\u001b[1;32m   5391\u001b[0m \u001b[38;5;28;01mif\u001b[39;00m \u001b[38;5;28misinstance\u001b[39m(key, \u001b[38;5;28mslice\u001b[39m):\n\u001b[1;32m   5392\u001b[0m     \u001b[38;5;66;03m# This case is separated from the conditional above to avoid\u001b[39;00m\n\u001b[1;32m   5393\u001b[0m     \u001b[38;5;66;03m# pessimization com.is_bool_indexer and ndim checks.\u001b[39;00m\n\u001b[1;32m   5394\u001b[0m     \u001b[38;5;28;01mreturn\u001b[39;00m \u001b[38;5;28mself\u001b[39m\u001b[38;5;241m.\u001b[39m_getitem_slice(key)\n",
      "\u001b[0;31mIndexError\u001b[0m: index 4 is out of bounds for axis 0 with size 4"
     ]
    }
   ],
   "source": [
    "brpd.normalize_curies(df, column=4)\n",
    "\n",
    "df[columns].head()"
   ]
  },
  {
   "cell_type": "code",
   "execution_count": null,
   "id": "5772c6c4",
   "metadata": {},
   "outputs": [],
   "source": [
    "idx = brpd.validate_curies(df, column=4)\n",
    "\n",
    "brpd.summarize_curie_validation(df, idx)"
   ]
  },
  {
   "cell_type": "markdown",
   "id": "7608be99",
   "metadata": {},
   "source": [
    "## Identifiers"
   ]
  },
  {
   "cell_type": "code",
   "execution_count": null,
   "id": "0faf0720",
   "metadata": {},
   "outputs": [],
   "source": [
    "idx = brpd.validate_identifiers(df, column=1, prefix_column=0, use_tqdm=True)\n",
    "print(f\"{(~idx).sum():,} rows have invalid identifiers\")"
   ]
  },
  {
   "cell_type": "code",
   "execution_count": null,
   "id": "bc2d73f2",
   "metadata": {},
   "outputs": [],
   "source": [
    "(~idx).sum()"
   ]
  },
  {
   "cell_type": "code",
   "execution_count": null,
   "id": "5691ff03",
   "metadata": {},
   "outputs": [],
   "source": [
    "brpd.identifiers_to_curies(df, column=1, prefix_column=0)\n",
    "\n",
    "columns = [c for c in columns if c != 0]  # remove redundant column\n",
    "\n",
    "df[columns].head()"
   ]
  }
 ],
 "metadata": {
  "kernelspec": {
   "display_name": "Python 3 (ipykernel)",
   "language": "python",
   "name": "python3"
  },
  "language_info": {
   "codemirror_mode": {
    "name": "ipython",
    "version": 3
   },
   "file_extension": ".py",
   "mimetype": "text/x-python",
   "name": "python",
   "nbconvert_exporter": "python",
   "pygments_lexer": "ipython3",
   "version": "3.12.11"
  }
 },
 "nbformat": 4,
 "nbformat_minor": 5
}
