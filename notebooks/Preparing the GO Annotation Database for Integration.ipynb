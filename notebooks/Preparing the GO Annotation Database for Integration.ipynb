{
 "cells": [
  {
   "cell_type": "markdown",
   "id": "d1c3fc4b-eaed-4fc0-b92d-2e2f4862d865",
   "metadata": {},
   "source": [
    "# Preparing the Gene Ontology Annotations Database for Integration\n",
    "\n",
    "> A Gene Ontology (GO) annotation is a statement about the function of a particular gene. GO annotations are created by associating a gene or gene product with a GO term. Together, these statements comprise a “snapshot” of current biological knowledge. Hence, GO annotations capture statements about how a gene functions at the molecular level, where in the cell it functions, and what biological processes (pathways, programs) it helps to carry out. (quoted from https://geneontology.org/docs/go-annotations)\n",
    "\n",
    "This notebook downloads the Gene Ontology annotation database and walks through the steps of 1) validating the usages of prefixes, local unique identifiers, and CURIEs then 2) standardizing them. Many datasets require such standardization to make them readily interoperable with other datasets.\n",
    "\n",
    "In the first step, we load the most recent GO annotations database from http://geneontology.org/gene-associations/goa_human.gaf.gz. The format of this file is explained at https://geneontology.org/docs/go-annotation-file-gaf-format-2.2/, but we only look at a subset of columns."
   ]
  },
  {
   "cell_type": "code",
   "execution_count": 1,
   "id": "4d5bae86",
   "metadata": {},
   "outputs": [
    {
     "data": {
      "text/html": [
       "<div>\n",
       "<style scoped>\n",
       "    .dataframe tbody tr th:only-of-type {\n",
       "        vertical-align: middle;\n",
       "    }\n",
       "\n",
       "    .dataframe tbody tr th {\n",
       "        vertical-align: top;\n",
       "    }\n",
       "\n",
       "    .dataframe thead th {\n",
       "        text-align: right;\n",
       "    }\n",
       "</style>\n",
       "<table border=\"1\" class=\"dataframe\">\n",
       "  <thead>\n",
       "    <tr style=\"text-align: right;\">\n",
       "      <th></th>\n",
       "      <th>subject_prefix</th>\n",
       "      <th>subject_identifier</th>\n",
       "      <th>object_curie</th>\n",
       "      <th>reference_curie</th>\n",
       "      <th>taxon_curie</th>\n",
       "    </tr>\n",
       "  </thead>\n",
       "  <tbody>\n",
       "    <tr>\n",
       "      <th>0</th>\n",
       "      <td>UniProtKB</td>\n",
       "      <td>A0A024RBG1</td>\n",
       "      <td>GO:0003723</td>\n",
       "      <td>GO_REF:0000043</td>\n",
       "      <td>taxon:9606</td>\n",
       "    </tr>\n",
       "    <tr>\n",
       "      <th>1</th>\n",
       "      <td>UniProtKB</td>\n",
       "      <td>A0A024RBG1</td>\n",
       "      <td>GO:0005515</td>\n",
       "      <td>PMID:33961781</td>\n",
       "      <td>taxon:9606</td>\n",
       "    </tr>\n",
       "    <tr>\n",
       "      <th>2</th>\n",
       "      <td>UniProtKB</td>\n",
       "      <td>A0A024RBG1</td>\n",
       "      <td>GO:0008486</td>\n",
       "      <td>GO_REF:0000003</td>\n",
       "      <td>taxon:9606</td>\n",
       "    </tr>\n",
       "    <tr>\n",
       "      <th>3</th>\n",
       "      <td>UniProtKB</td>\n",
       "      <td>A0A024RBG1</td>\n",
       "      <td>GO:0016462</td>\n",
       "      <td>GO_REF:0000002</td>\n",
       "      <td>taxon:9606</td>\n",
       "    </tr>\n",
       "    <tr>\n",
       "      <th>4</th>\n",
       "      <td>UniProtKB</td>\n",
       "      <td>A0A024RBG1</td>\n",
       "      <td>GO:0016787</td>\n",
       "      <td>GO_REF:0000002</td>\n",
       "      <td>taxon:9606</td>\n",
       "    </tr>\n",
       "  </tbody>\n",
       "</table>\n",
       "</div>"
      ],
      "text/plain": [
       "  subject_prefix subject_identifier object_curie reference_curie taxon_curie\n",
       "0      UniProtKB         A0A024RBG1   GO:0003723  GO_REF:0000043  taxon:9606\n",
       "1      UniProtKB         A0A024RBG1   GO:0005515   PMID:33961781  taxon:9606\n",
       "2      UniProtKB         A0A024RBG1   GO:0008486  GO_REF:0000003  taxon:9606\n",
       "3      UniProtKB         A0A024RBG1   GO:0016462  GO_REF:0000002  taxon:9606\n",
       "4      UniProtKB         A0A024RBG1   GO:0016787  GO_REF:0000002  taxon:9606"
      ]
     },
     "execution_count": 1,
     "metadata": {},
     "output_type": "execute_result"
    }
   ],
   "source": [
    "import pandas as pd\n",
    "\n",
    "import bioregistry.pandas as brpd\n",
    "\n",
    "# Focus on these columns when displaying the data\n",
    "columns = [0, 1, 4, 5, 12]\n",
    "names = [\n",
    "    \"subject_prefix\",\n",
    "    \"subject_identifier\",\n",
    "    \"object_curie\",\n",
    "    \"reference_curie\",\n",
    "    \"taxon_curie\",\n",
    "]\n",
    "\n",
    "df = pd.read_csv(\n",
    "    \"http://geneontology.org/gene-associations/goa_human.gaf.gz\",\n",
    "    sep=\"\\t\",\n",
    "    comment=\"!\",\n",
    "    header=None,\n",
    "    usecols=columns,\n",
    "    names=names,\n",
    "    dtype=str,\n",
    ").head(100)\n",
    "\n",
    "\n",
    "df.head()"
   ]
  },
  {
   "cell_type": "markdown",
   "id": "ead3473a-7cc8-4fe9-93ab-68f078e4bf44",
   "metadata": {},
   "source": [
    "## Validation"
   ]
  },
  {
   "cell_type": "code",
   "execution_count": 2,
   "id": "acec9e21-e4ed-4821-9d7c-fba5af854173",
   "metadata": {},
   "outputs": [
    {
     "name": "stdout",
     "output_type": "stream",
     "text": [
      "100 of 100 (100%) rows with the following prefixes need to be fixed: ['UniProtKB']\n",
      "The following prefixes could be normalized using normalize_curies():\n",
      "\n",
      "| raw       | standardized   |\n",
      "|-----------|----------------|\n",
      "| UniProtKB | uniprot        |\n"
     ]
    }
   ],
   "source": [
    "idx = brpd.validate_prefixes(df, column=\"subject_prefix\")\n",
    "\n",
    "brpd.summarize_prefix_validation(df, idx, column=\"subject_prefix\")"
   ]
  },
  {
   "cell_type": "code",
   "execution_count": 3,
   "id": "d3b62b73-6e51-4d74-86f5-1b550134e1b7",
   "metadata": {},
   "outputs": [
    {
     "name": "stdout",
     "output_type": "stream",
     "text": [
      "0 rows have invalid identifiers\n"
     ]
    }
   ],
   "source": [
    "idx = brpd.validate_identifiers(\n",
    "    df, column=\"subject_identifier\", prefix_column=\"subject_prefix\", use_tqdm=True\n",
    ")\n",
    "\n",
    "print(f\"{(~idx).sum():,} rows have invalid identifiers\")"
   ]
  },
  {
   "cell_type": "code",
   "execution_count": 4,
   "id": "a7a33717",
   "metadata": {},
   "outputs": [
    {
     "name": "stdout",
     "output_type": "stream",
     "text": [
      "100 of 100 (100%) rows with the following CURIEs need to be fixed: ['GO:0002250', 'GO:0002376', 'GO:0003723', 'GO:0005515', 'GO:0005576', 'GO:0005737', 'GO:0005829', 'GO:0005886', 'GO:0008486', 'GO:0016020', 'GO:0016462', 'GO:0016787', 'GO:0019814', 'GO:0046872']\n"
     ]
    }
   ],
   "source": [
    "idx = brpd.validate_curies(df, column=\"object_curie\")\n",
    "brpd.summarize_curie_validation(df, idx, column=\"object_curie\")"
   ]
  },
  {
   "cell_type": "code",
   "execution_count": 5,
   "id": "8b12dc79-1ae1-40f7-b99c-c5643da2931b",
   "metadata": {},
   "outputs": [
    {
     "name": "stdout",
     "output_type": "stream",
     "text": [
      "100 of 100 (100%) rows with the following CURIEs need to be fixed: ['GO_REF:0000002', 'GO_REF:0000003', 'GO_REF:0000043', 'GO_REF:0000044', 'GO_REF:0000052', 'GO_REF:0000117', 'PMID:33961781']\n"
     ]
    }
   ],
   "source": [
    "idx = brpd.validate_curies(df, column=\"reference_curie\")\n",
    "brpd.summarize_curie_validation(df, idx, column=\"reference_curie\")"
   ]
  },
  {
   "cell_type": "code",
   "execution_count": 6,
   "id": "9dd93e51-16a0-442b-9ec0-95b08b482880",
   "metadata": {},
   "outputs": [
    {
     "name": "stdout",
     "output_type": "stream",
     "text": [
      "100 of 100 (100%) rows with the following CURIEs need to be fixed: ['taxon:9606']\n"
     ]
    }
   ],
   "source": [
    "idx = brpd.validate_curies(df, column=\"taxon_curie\")\n",
    "brpd.summarize_curie_validation(df, idx, column=\"taxon_curie\")"
   ]
  },
  {
   "cell_type": "markdown",
   "id": "74cdd8e3-9dce-4824-b769-ab6117b73339",
   "metadata": {},
   "source": [
    "## Standardize"
   ]
  },
  {
   "cell_type": "code",
   "execution_count": 7,
   "id": "06b5680a",
   "metadata": {},
   "outputs": [
    {
     "data": {
      "text/html": [
       "<div>\n",
       "<style scoped>\n",
       "    .dataframe tbody tr th:only-of-type {\n",
       "        vertical-align: middle;\n",
       "    }\n",
       "\n",
       "    .dataframe tbody tr th {\n",
       "        vertical-align: top;\n",
       "    }\n",
       "\n",
       "    .dataframe thead th {\n",
       "        text-align: right;\n",
       "    }\n",
       "</style>\n",
       "<table border=\"1\" class=\"dataframe\">\n",
       "  <thead>\n",
       "    <tr style=\"text-align: right;\">\n",
       "      <th></th>\n",
       "      <th>subject_prefix</th>\n",
       "      <th>subject_identifier</th>\n",
       "      <th>object_curie</th>\n",
       "      <th>reference_curie</th>\n",
       "      <th>taxon_curie</th>\n",
       "    </tr>\n",
       "  </thead>\n",
       "  <tbody>\n",
       "    <tr>\n",
       "      <th>0</th>\n",
       "      <td>uniprot</td>\n",
       "      <td>A0A024RBG1</td>\n",
       "      <td>go:0003723</td>\n",
       "      <td>go.ref:0000043</td>\n",
       "      <td>ncbitaxon:9606</td>\n",
       "    </tr>\n",
       "    <tr>\n",
       "      <th>1</th>\n",
       "      <td>uniprot</td>\n",
       "      <td>A0A024RBG1</td>\n",
       "      <td>go:0005515</td>\n",
       "      <td>pubmed:33961781</td>\n",
       "      <td>ncbitaxon:9606</td>\n",
       "    </tr>\n",
       "    <tr>\n",
       "      <th>2</th>\n",
       "      <td>uniprot</td>\n",
       "      <td>A0A024RBG1</td>\n",
       "      <td>go:0008486</td>\n",
       "      <td>go.ref:0000003</td>\n",
       "      <td>ncbitaxon:9606</td>\n",
       "    </tr>\n",
       "    <tr>\n",
       "      <th>3</th>\n",
       "      <td>uniprot</td>\n",
       "      <td>A0A024RBG1</td>\n",
       "      <td>go:0016462</td>\n",
       "      <td>go.ref:0000002</td>\n",
       "      <td>ncbitaxon:9606</td>\n",
       "    </tr>\n",
       "    <tr>\n",
       "      <th>4</th>\n",
       "      <td>uniprot</td>\n",
       "      <td>A0A024RBG1</td>\n",
       "      <td>go:0016787</td>\n",
       "      <td>go.ref:0000002</td>\n",
       "      <td>ncbitaxon:9606</td>\n",
       "    </tr>\n",
       "  </tbody>\n",
       "</table>\n",
       "</div>"
      ],
      "text/plain": [
       "  subject_prefix subject_identifier object_curie  reference_curie  \\\n",
       "0        uniprot         A0A024RBG1   go:0003723   go.ref:0000043   \n",
       "1        uniprot         A0A024RBG1   go:0005515  pubmed:33961781   \n",
       "2        uniprot         A0A024RBG1   go:0008486   go.ref:0000003   \n",
       "3        uniprot         A0A024RBG1   go:0016462   go.ref:0000002   \n",
       "4        uniprot         A0A024RBG1   go:0016787   go.ref:0000002   \n",
       "\n",
       "      taxon_curie  \n",
       "0  ncbitaxon:9606  \n",
       "1  ncbitaxon:9606  \n",
       "2  ncbitaxon:9606  \n",
       "3  ncbitaxon:9606  \n",
       "4  ncbitaxon:9606  "
      ]
     },
     "execution_count": 7,
     "metadata": {},
     "output_type": "execute_result"
    }
   ],
   "source": [
    "brpd.normalize_prefixes(df, column=\"subject_prefix\")\n",
    "\n",
    "brpd.normalize_curies(df, column=\"object_curie\")\n",
    "brpd.normalize_curies(df, column=\"reference_curie\")\n",
    "brpd.normalize_curies(df, column=\"taxon_curie\")\n",
    "\n",
    "df = df[[\"subject_prefix\", \"subject_identifier\", \"object_curie\", \"reference_curie\", \"taxon_curie\"]]\n",
    "df.head()"
   ]
  },
  {
   "cell_type": "code",
   "execution_count": 8,
   "id": "c5b5c49a-5cea-4ec8-b841-723d6ea92e97",
   "metadata": {},
   "outputs": [
    {
     "data": {
      "text/plain": [
       "0     uniprot:A0A024RBG1\n",
       "1     uniprot:A0A024RBG1\n",
       "2     uniprot:A0A024RBG1\n",
       "3     uniprot:A0A024RBG1\n",
       "4     uniprot:A0A024RBG1\n",
       "             ...        \n",
       "95    uniprot:A0A075B6I9\n",
       "96    uniprot:A0A075B6I9\n",
       "97    uniprot:A0A075B6I9\n",
       "98    uniprot:A0A075B6I9\n",
       "99    uniprot:A0A075B6I9\n",
       "Length: 100, dtype: object"
      ]
     },
     "execution_count": 8,
     "metadata": {},
     "output_type": "execute_result"
    }
   ],
   "source": [
    "brpd.identifiers_to_curies(df, column=\"subject_identifier\", prefix_column=\"subject_prefix\")"
   ]
  },
  {
   "cell_type": "code",
   "execution_count": 9,
   "id": "d55880cc-d0f0-4d18-a3e6-3463a4c9a2a2",
   "metadata": {},
   "outputs": [
    {
     "data": {
      "text/html": [
       "<div>\n",
       "<style scoped>\n",
       "    .dataframe tbody tr th:only-of-type {\n",
       "        vertical-align: middle;\n",
       "    }\n",
       "\n",
       "    .dataframe tbody tr th {\n",
       "        vertical-align: top;\n",
       "    }\n",
       "\n",
       "    .dataframe thead th {\n",
       "        text-align: right;\n",
       "    }\n",
       "</style>\n",
       "<table border=\"1\" class=\"dataframe\">\n",
       "  <thead>\n",
       "    <tr style=\"text-align: right;\">\n",
       "      <th></th>\n",
       "      <th>object_curie</th>\n",
       "      <th>reference_curie</th>\n",
       "      <th>taxon_curie</th>\n",
       "      <th>subject_curie</th>\n",
       "    </tr>\n",
       "  </thead>\n",
       "  <tbody>\n",
       "    <tr>\n",
       "      <th>0</th>\n",
       "      <td>go:0003723</td>\n",
       "      <td>go.ref:0000043</td>\n",
       "      <td>ncbitaxon:9606</td>\n",
       "      <td>uniprot:A0A024RBG1</td>\n",
       "    </tr>\n",
       "    <tr>\n",
       "      <th>1</th>\n",
       "      <td>go:0005515</td>\n",
       "      <td>pubmed:33961781</td>\n",
       "      <td>ncbitaxon:9606</td>\n",
       "      <td>uniprot:A0A024RBG1</td>\n",
       "    </tr>\n",
       "    <tr>\n",
       "      <th>2</th>\n",
       "      <td>go:0008486</td>\n",
       "      <td>go.ref:0000003</td>\n",
       "      <td>ncbitaxon:9606</td>\n",
       "      <td>uniprot:A0A024RBG1</td>\n",
       "    </tr>\n",
       "    <tr>\n",
       "      <th>3</th>\n",
       "      <td>go:0016462</td>\n",
       "      <td>go.ref:0000002</td>\n",
       "      <td>ncbitaxon:9606</td>\n",
       "      <td>uniprot:A0A024RBG1</td>\n",
       "    </tr>\n",
       "    <tr>\n",
       "      <th>4</th>\n",
       "      <td>go:0016787</td>\n",
       "      <td>go.ref:0000002</td>\n",
       "      <td>ncbitaxon:9606</td>\n",
       "      <td>uniprot:A0A024RBG1</td>\n",
       "    </tr>\n",
       "    <tr>\n",
       "      <th>...</th>\n",
       "      <td>...</td>\n",
       "      <td>...</td>\n",
       "      <td>...</td>\n",
       "      <td>...</td>\n",
       "    </tr>\n",
       "    <tr>\n",
       "      <th>95</th>\n",
       "      <td>go:0002250</td>\n",
       "      <td>go.ref:0000043</td>\n",
       "      <td>ncbitaxon:9606</td>\n",
       "      <td>uniprot:A0A075B6I9</td>\n",
       "    </tr>\n",
       "    <tr>\n",
       "      <th>96</th>\n",
       "      <td>go:0002376</td>\n",
       "      <td>go.ref:0000043</td>\n",
       "      <td>ncbitaxon:9606</td>\n",
       "      <td>uniprot:A0A075B6I9</td>\n",
       "    </tr>\n",
       "    <tr>\n",
       "      <th>97</th>\n",
       "      <td>go:0005576</td>\n",
       "      <td>go.ref:0000043</td>\n",
       "      <td>ncbitaxon:9606</td>\n",
       "      <td>uniprot:A0A075B6I9</td>\n",
       "    </tr>\n",
       "    <tr>\n",
       "      <th>98</th>\n",
       "      <td>go:0005576</td>\n",
       "      <td>go.ref:0000044</td>\n",
       "      <td>ncbitaxon:9606</td>\n",
       "      <td>uniprot:A0A075B6I9</td>\n",
       "    </tr>\n",
       "    <tr>\n",
       "      <th>99</th>\n",
       "      <td>go:0005576</td>\n",
       "      <td>go.ref:0000117</td>\n",
       "      <td>ncbitaxon:9606</td>\n",
       "      <td>uniprot:A0A075B6I9</td>\n",
       "    </tr>\n",
       "  </tbody>\n",
       "</table>\n",
       "<p>100 rows × 4 columns</p>\n",
       "</div>"
      ],
      "text/plain": [
       "   object_curie  reference_curie     taxon_curie       subject_curie\n",
       "0    go:0003723   go.ref:0000043  ncbitaxon:9606  uniprot:A0A024RBG1\n",
       "1    go:0005515  pubmed:33961781  ncbitaxon:9606  uniprot:A0A024RBG1\n",
       "2    go:0008486   go.ref:0000003  ncbitaxon:9606  uniprot:A0A024RBG1\n",
       "3    go:0016462   go.ref:0000002  ncbitaxon:9606  uniprot:A0A024RBG1\n",
       "4    go:0016787   go.ref:0000002  ncbitaxon:9606  uniprot:A0A024RBG1\n",
       "..          ...              ...             ...                 ...\n",
       "95   go:0002250   go.ref:0000043  ncbitaxon:9606  uniprot:A0A075B6I9\n",
       "96   go:0002376   go.ref:0000043  ncbitaxon:9606  uniprot:A0A075B6I9\n",
       "97   go:0005576   go.ref:0000043  ncbitaxon:9606  uniprot:A0A075B6I9\n",
       "98   go:0005576   go.ref:0000044  ncbitaxon:9606  uniprot:A0A075B6I9\n",
       "99   go:0005576   go.ref:0000117  ncbitaxon:9606  uniprot:A0A075B6I9\n",
       "\n",
       "[100 rows x 4 columns]"
      ]
     },
     "execution_count": 9,
     "metadata": {},
     "output_type": "execute_result"
    }
   ],
   "source": [
    "# Collapse split prefix/identifier columns together into curies\n",
    "brpd.pd_collapse_to_curies(\n",
    "    df,\n",
    "    prefix_column=\"subject_prefix\",\n",
    "    identifier_column=\"subject_identifier\",\n",
    "    target_column=\"subject_curie\",\n",
    ")\n",
    "df"
   ]
  },
  {
   "cell_type": "code",
   "execution_count": null,
   "id": "933d04cb",
   "metadata": {},
   "outputs": [],
   "source": []
  }
 ],
 "metadata": {
  "kernelspec": {
   "display_name": "Python 3 (ipykernel)",
   "language": "python",
   "name": "python3"
  },
  "language_info": {
   "codemirror_mode": {
    "name": "ipython",
    "version": 3
   },
   "file_extension": ".py",
   "mimetype": "text/x-python",
   "name": "python",
   "nbconvert_exporter": "python",
   "pygments_lexer": "ipython3",
   "version": "3.12.11"
  }
 },
 "nbformat": 4,
 "nbformat_minor": 5
}
