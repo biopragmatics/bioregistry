{
 "cells": [
  {
   "cell_type": "code",
   "execution_count": 1,
   "id": "d55e7bf4",
   "metadata": {},
   "outputs": [
    {
     "data": {
      "text/html": [
       "<div>\n",
       "<style scoped>\n",
       "    .dataframe tbody tr th:only-of-type {\n",
       "        vertical-align: middle;\n",
       "    }\n",
       "\n",
       "    .dataframe tbody tr th {\n",
       "        vertical-align: top;\n",
       "    }\n",
       "\n",
       "    .dataframe thead th {\n",
       "        text-align: right;\n",
       "    }\n",
       "</style>\n",
       "<table border=\"1\" class=\"dataframe\">\n",
       "  <thead>\n",
       "    <tr style=\"text-align: right;\">\n",
       "      <th></th>\n",
       "      <th>0</th>\n",
       "      <th>1</th>\n",
       "      <th>4</th>\n",
       "      <th>5</th>\n",
       "      <th>7</th>\n",
       "      <th>12</th>\n",
       "    </tr>\n",
       "  </thead>\n",
       "  <tbody>\n",
       "    <tr>\n",
       "      <th>0</th>\n",
       "      <td>UniProtKB</td>\n",
       "      <td>A0A024RBG1</td>\n",
       "      <td>GO:0003723</td>\n",
       "      <td>GO_REF:0000043</td>\n",
       "      <td>UniProtKB-KW:KW-0694</td>\n",
       "      <td>taxon:9606</td>\n",
       "    </tr>\n",
       "    <tr>\n",
       "      <th>1</th>\n",
       "      <td>UniProtKB</td>\n",
       "      <td>A0A024RBG1</td>\n",
       "      <td>GO:0046872</td>\n",
       "      <td>GO_REF:0000043</td>\n",
       "      <td>UniProtKB-KW:KW-0479</td>\n",
       "      <td>taxon:9606</td>\n",
       "    </tr>\n",
       "    <tr>\n",
       "      <th>2</th>\n",
       "      <td>UniProtKB</td>\n",
       "      <td>A0A024RBG1</td>\n",
       "      <td>GO:0052840</td>\n",
       "      <td>GO_REF:0000003</td>\n",
       "      <td>EC:3.6.1.52</td>\n",
       "      <td>taxon:9606</td>\n",
       "    </tr>\n",
       "    <tr>\n",
       "      <th>3</th>\n",
       "      <td>UniProtKB</td>\n",
       "      <td>A0A024RBG1</td>\n",
       "      <td>GO:0052842</td>\n",
       "      <td>GO_REF:0000003</td>\n",
       "      <td>EC:3.6.1.52</td>\n",
       "      <td>taxon:9606</td>\n",
       "    </tr>\n",
       "    <tr>\n",
       "      <th>4</th>\n",
       "      <td>UniProtKB</td>\n",
       "      <td>A0A024RBG1</td>\n",
       "      <td>GO:0005829</td>\n",
       "      <td>GO_REF:0000052</td>\n",
       "      <td>NaN</td>\n",
       "      <td>taxon:9606</td>\n",
       "    </tr>\n",
       "  </tbody>\n",
       "</table>\n",
       "</div>"
      ],
      "text/plain": [
       "          0           1           4               5                     7   \\\n",
       "0  UniProtKB  A0A024RBG1  GO:0003723  GO_REF:0000043  UniProtKB-KW:KW-0694   \n",
       "1  UniProtKB  A0A024RBG1  GO:0046872  GO_REF:0000043  UniProtKB-KW:KW-0479   \n",
       "2  UniProtKB  A0A024RBG1  GO:0052840  GO_REF:0000003           EC:3.6.1.52   \n",
       "3  UniProtKB  A0A024RBG1  GO:0052842  GO_REF:0000003           EC:3.6.1.52   \n",
       "4  UniProtKB  A0A024RBG1  GO:0005829  GO_REF:0000052                   NaN   \n",
       "\n",
       "           12  \n",
       "0  taxon:9606  \n",
       "1  taxon:9606  \n",
       "2  taxon:9606  \n",
       "3  taxon:9606  \n",
       "4  taxon:9606  "
      ]
     },
     "execution_count": 1,
     "metadata": {},
     "output_type": "execute_result"
    }
   ],
   "source": [
    "import bioregistry.pandas as brpd\n",
    "import pandas as pd\n",
    "\n",
    "# Focus on these columns when displaying the data\n",
    "columns = [0,1,4,5,7,12]\n",
    "\n",
    "df = pd.read_csv(\n",
    "    \"http://geneontology.org/gene-associations/goa_human.gaf.gz\",\n",
    "    sep=\"\\t\",\n",
    "    comment='!',\n",
    "    header=None,\n",
    "    dtype=str,\n",
    ")\n",
    "\n",
    "\n",
    "df[columns].head()"
   ]
  },
  {
   "cell_type": "code",
   "execution_count": 2,
   "id": "cf03f852",
   "metadata": {},
   "outputs": [
    {
     "name": "stdout",
     "output_type": "stream",
     "text": [
      "632,633 of 632,633 (100%) rows with the following prefixes need to be fixed: ['UniProtKB']\n",
      "The following prefixes could be normalized using normalize_curies():\n",
      "\n",
      "| raw       | standardized   |\n",
      "|-----------|----------------|\n",
      "| UniProtKB | uniprot        |\n"
     ]
    }
   ],
   "source": [
    "idx = brpd.validate_prefixes(df, column=0)\n",
    "\n",
    "brpd.summarize_prefix_validation(df, idx)"
   ]
  },
  {
   "cell_type": "code",
   "execution_count": 3,
   "id": "099528bb",
   "metadata": {},
   "outputs": [
    {
     "data": {
      "text/html": [
       "<div>\n",
       "<style scoped>\n",
       "    .dataframe tbody tr th:only-of-type {\n",
       "        vertical-align: middle;\n",
       "    }\n",
       "\n",
       "    .dataframe tbody tr th {\n",
       "        vertical-align: top;\n",
       "    }\n",
       "\n",
       "    .dataframe thead th {\n",
       "        text-align: right;\n",
       "    }\n",
       "</style>\n",
       "<table border=\"1\" class=\"dataframe\">\n",
       "  <thead>\n",
       "    <tr style=\"text-align: right;\">\n",
       "      <th></th>\n",
       "      <th>0</th>\n",
       "      <th>1</th>\n",
       "      <th>4</th>\n",
       "      <th>5</th>\n",
       "      <th>7</th>\n",
       "      <th>12</th>\n",
       "    </tr>\n",
       "  </thead>\n",
       "  <tbody>\n",
       "    <tr>\n",
       "      <th>0</th>\n",
       "      <td>uniprot</td>\n",
       "      <td>A0A024RBG1</td>\n",
       "      <td>GO:0003723</td>\n",
       "      <td>GO_REF:0000043</td>\n",
       "      <td>UniProtKB-KW:KW-0694</td>\n",
       "      <td>taxon:9606</td>\n",
       "    </tr>\n",
       "    <tr>\n",
       "      <th>1</th>\n",
       "      <td>uniprot</td>\n",
       "      <td>A0A024RBG1</td>\n",
       "      <td>GO:0046872</td>\n",
       "      <td>GO_REF:0000043</td>\n",
       "      <td>UniProtKB-KW:KW-0479</td>\n",
       "      <td>taxon:9606</td>\n",
       "    </tr>\n",
       "    <tr>\n",
       "      <th>2</th>\n",
       "      <td>uniprot</td>\n",
       "      <td>A0A024RBG1</td>\n",
       "      <td>GO:0052840</td>\n",
       "      <td>GO_REF:0000003</td>\n",
       "      <td>EC:3.6.1.52</td>\n",
       "      <td>taxon:9606</td>\n",
       "    </tr>\n",
       "    <tr>\n",
       "      <th>3</th>\n",
       "      <td>uniprot</td>\n",
       "      <td>A0A024RBG1</td>\n",
       "      <td>GO:0052842</td>\n",
       "      <td>GO_REF:0000003</td>\n",
       "      <td>EC:3.6.1.52</td>\n",
       "      <td>taxon:9606</td>\n",
       "    </tr>\n",
       "    <tr>\n",
       "      <th>4</th>\n",
       "      <td>uniprot</td>\n",
       "      <td>A0A024RBG1</td>\n",
       "      <td>GO:0005829</td>\n",
       "      <td>GO_REF:0000052</td>\n",
       "      <td>NaN</td>\n",
       "      <td>taxon:9606</td>\n",
       "    </tr>\n",
       "  </tbody>\n",
       "</table>\n",
       "</div>"
      ],
      "text/plain": [
       "        0           1           4               5                     7   \\\n",
       "0  uniprot  A0A024RBG1  GO:0003723  GO_REF:0000043  UniProtKB-KW:KW-0694   \n",
       "1  uniprot  A0A024RBG1  GO:0046872  GO_REF:0000043  UniProtKB-KW:KW-0479   \n",
       "2  uniprot  A0A024RBG1  GO:0052840  GO_REF:0000003           EC:3.6.1.52   \n",
       "3  uniprot  A0A024RBG1  GO:0052842  GO_REF:0000003           EC:3.6.1.52   \n",
       "4  uniprot  A0A024RBG1  GO:0005829  GO_REF:0000052                   NaN   \n",
       "\n",
       "           12  \n",
       "0  taxon:9606  \n",
       "1  taxon:9606  \n",
       "2  taxon:9606  \n",
       "3  taxon:9606  \n",
       "4  taxon:9606  "
      ]
     },
     "execution_count": 3,
     "metadata": {},
     "output_type": "execute_result"
    }
   ],
   "source": [
    "brpd.normalize_prefixes(df, column=0)\n",
    "\n",
    "df[columns].head()"
   ]
  },
  {
   "cell_type": "code",
   "execution_count": 4,
   "id": "36c3b48e",
   "metadata": {},
   "outputs": [
    {
     "name": "stdout",
     "output_type": "stream",
     "text": [
      "0 rows with the follwing prefixes need to be fixed: []\n"
     ]
    }
   ],
   "source": [
    "idx = brpd.validate_prefixes(df, column=0)\n",
    "print(f\"{(~idx).sum()} rows with the follwing prefixes need to be fixed:\", df[~idx][0].unique())"
   ]
  },
  {
   "cell_type": "code",
   "execution_count": 5,
   "id": "12f817bf",
   "metadata": {},
   "outputs": [
    {
     "name": "stderr",
     "output_type": "stream",
     "text": [
      "100%|█████████████████████████████████████████████████████████████████████████████████████████████████████████████████████████████████████████████████████| 633k/633k [06:12<00:00, 1.70kit/s]\n"
     ]
    },
    {
     "ename": "TypeError",
     "evalue": "bad operand type for unary ~: 'list'",
     "output_type": "error",
     "traceback": [
      "\u001b[0;31m---------------------------------------------------------------------------\u001b[0m",
      "\u001b[0;31mTypeError\u001b[0m                                 Traceback (most recent call last)",
      "Input \u001b[0;32mIn [5]\u001b[0m, in \u001b[0;36m<module>\u001b[0;34m\u001b[0m\n\u001b[1;32m      1\u001b[0m idx \u001b[38;5;241m=\u001b[39m brpd\u001b[38;5;241m.\u001b[39mvalidate_identifiers(df, column\u001b[38;5;241m=\u001b[39m\u001b[38;5;241m1\u001b[39m, prefix_column\u001b[38;5;241m=\u001b[39m\u001b[38;5;241m0\u001b[39m, use_tqdm\u001b[38;5;241m=\u001b[39m\u001b[38;5;28;01mTrue\u001b[39;00m)\n\u001b[0;32m----> 2\u001b[0m \u001b[38;5;28mprint\u001b[39m(\u001b[38;5;124mf\u001b[39m\u001b[38;5;124m\"\u001b[39m\u001b[38;5;132;01m{\u001b[39;00m(\u001b[38;5;241m~\u001b[39midx)\u001b[38;5;241m.\u001b[39msum()\u001b[38;5;132;01m:\u001b[39;00m\u001b[38;5;124m,\u001b[39m\u001b[38;5;132;01m}\u001b[39;00m\u001b[38;5;124m rows have invalid identifiers\u001b[39m\u001b[38;5;124m\"\u001b[39m)\n",
      "\u001b[0;31mTypeError\u001b[0m: bad operand type for unary ~: 'list'"
     ]
    }
   ],
   "source": [
    "idx = brpd.validate_identifiers(df, column=1, prefix_column=0, use_tqdm=True)\n",
    "print(f\"{(~idx).sum():,} rows have invalid identifiers\")"
   ]
  },
  {
   "cell_type": "code",
   "execution_count": 11,
   "id": "1e4b6624",
   "metadata": {},
   "outputs": [
    {
     "data": {
      "text/plain": [
       "0"
      ]
     },
     "execution_count": 11,
     "metadata": {},
     "output_type": "execute_result"
    }
   ],
   "source": [
    "(~idx).sum()"
   ]
  },
  {
   "cell_type": "code",
   "execution_count": null,
   "id": "b916caed",
   "metadata": {},
   "outputs": [],
   "source": [
    "# column 1: DB\n",
    "#  i.e., `UniProtKB` entries are not standard, and are therefore false\n",
    "idx = brpd.validate_prefixes(df, column=0)\n",
    "\n",
    "# Slice the dataframe based on valid and invalid prefixes\n",
    "valid_prefix_df = df[idx]\n",
    "invalid_prefix_df = df[~idx]\n",
    "\n",
    "valid_prefix_df"
   ]
  },
  {
   "cell_type": "code",
   "execution_count": null,
   "id": "bce2f490",
   "metadata": {},
   "outputs": [],
   "source": [
    "invalid_prefix_df"
   ]
  }
 ],
 "metadata": {
  "kernelspec": {
   "display_name": "Python 3 (ipykernel)",
   "language": "python",
   "name": "python3"
  },
  "language_info": {
   "codemirror_mode": {
    "name": "ipython",
    "version": 3
   },
   "file_extension": ".py",
   "mimetype": "text/x-python",
   "name": "python",
   "nbconvert_exporter": "python",
   "pygments_lexer": "ipython3",
   "version": "3.9.12"
  }
 },
 "nbformat": 4,
 "nbformat_minor": 5
}
